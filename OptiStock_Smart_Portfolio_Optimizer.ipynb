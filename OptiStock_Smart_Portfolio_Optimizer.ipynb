{
  "nbformat": 4,
  "nbformat_minor": 0,
  "metadata": {
    "colab": {
      "provenance": [],
      "toc_visible": true,
      "authorship_tag": "ABX9TyPdGIq+AZgjEDf/thjK63js",
      "include_colab_link": true
    },
    "kernelspec": {
      "name": "python3",
      "display_name": "Python 3"
    },
    "language_info": {
      "name": "python"
    }
  },
  "cells": [
    {
      "cell_type": "markdown",
      "metadata": {
        "id": "view-in-github",
        "colab_type": "text"
      },
      "source": [
        "<a href=\"https://colab.research.google.com/github/NayabRasool786/OptiStock-Smart-Portfolio-Optimizer/blob/main/OptiStock_Smart_Portfolio_Optimizer.ipynb\" target=\"_parent\"><img src=\"https://colab.research.google.com/assets/colab-badge.svg\" alt=\"Open In Colab\"/></a>"
      ]
    },
    {
      "cell_type": "markdown",
      "source": [
        "**Importing the necessary Python libraries and collecting the stock market data using the yfinance API**\n"
      ],
      "metadata": {
        "id": "n-K8ydE9_22-"
      }
    },
    {
      "cell_type": "code",
      "source": [],
      "metadata": {
        "id": "03uvRyhxJO-T"
      },
      "execution_count": null,
      "outputs": []
    }
  ]
}