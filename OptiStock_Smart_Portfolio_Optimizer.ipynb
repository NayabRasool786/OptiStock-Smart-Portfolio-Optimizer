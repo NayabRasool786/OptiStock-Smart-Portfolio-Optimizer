{
  "nbformat": 4,
  "nbformat_minor": 0,
  "metadata": {
    "colab": {
      "provenance": [],
      "authorship_tag": "ABX9TyNWZpAI2CKGrt+5Y3npMdNt",
      "include_colab_link": true
    },
    "kernelspec": {
      "name": "python3",
      "display_name": "Python 3"
    },
    "language_info": {
      "name": "python"
    }
  },
  "cells": [
    {
      "cell_type": "markdown",
      "metadata": {
        "id": "view-in-github",
        "colab_type": "text"
      },
      "source": [
        "<a href=\"https://colab.research.google.com/github/NayabRasool786/OptiStock-Smart-Portfolio-Optimizer/blob/main/OptiStock_Smart_Portfolio_Optimizer.ipynb\" target=\"_parent\"><img src=\"https://colab.research.google.com/assets/colab-badge.svg\" alt=\"Open In Colab\"/></a>"
      ]
    },
    {
      "cell_type": "code",
      "execution_count": null,
      "metadata": {
        "id": "xRGYKlEz_b1Z"
      },
      "outputs": [],
      "source": []
    },
    {
      "cell_type": "markdown",
      "source": [
        "#\tImporting the necessary Python libraries and collecting the stock market data using the yfinance API"
      ],
      "metadata": {
        "id": "n-K8ydE9_22-"
      }
    },
    {
      "cell_type": "code",
      "source": [],
      "metadata": {
        "id": "h0ivpvGGAP-H"
      },
      "execution_count": null,
      "outputs": []
    }
  ]
}